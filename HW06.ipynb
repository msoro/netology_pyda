{
 "cells": [
  {
   "cell_type": "markdown",
   "metadata": {},
   "source": [
    "# Домашнее задание к лекции «Исключения и обработка ошибок»\n",
    "## Задание 1\n",
    "Печатные газеты использовали свой формат дат для каждого выпуска. Для каждой газеты из списка напишите формат указанной даты для перевода в объект datetime:\n",
    "* The Moscow Times - Wednesday, October 2, 2002\n",
    "* The Guardian - Friday, 11.10.13\n",
    "* Daily News - Thursday, 18 August 1977"
   ]
  },
  {
   "cell_type": "code",
   "execution_count": 3,
   "metadata": {},
   "outputs": [
    {
     "name": "stdout",
     "output_type": "stream",
     "text": [
      "Формат: 2002-10-02 00:00:00\n",
      "Формат: 2013-10-11 00:00:00\n",
      "Формат: 1977-08-18 00:00:00\n"
     ]
    }
   ],
   "source": [
    "from datetime import datetime\n",
    "\n",
    "# The Moscow Times - Wednesday, October 2, 2002  \n",
    "tdate = 'Wednesday, October 2, 2002'\n",
    "moscow_times_format = '%A, %B %d, %Y'\n",
    "print('Формат: {}'.format(datetime.strptime(tdate, moscow_times_format)))\n",
    "\n",
    "\n",
    "# The Guardian - Friday, 11.10.13  \n",
    "tdate = 'Friday, 11.10.13'\n",
    "guardian_format = '%A, %d.%m.%y' \n",
    "print('Формат: {}'.format(datetime.strptime(tdate, guardian_format)))\n",
    "\n",
    "\n",
    "# Daily News - Thursday, 18 August 1977 \n",
    "tdate = 'Thursday, 18 August 1977'\n",
    "daily_news_format = '%A, %d %B %Y'\n",
    "print('Формат: {}'.format(datetime.strptime(tdate, daily_news_format)))\n"
   ]
  },
  {
   "cell_type": "markdown",
   "metadata": {},
   "source": [
    "## Задание 2\n",
    "Дан поток дат в формате YYYY-MM-DD, в которых встречаются некорректные значения:\n",
    "\n",
    "stream = [‘2018-04-02’, ‘2018-02-29’, ‘2018-19-02’]\n",
    "\n",
    "Напишите функцию, которая проверяет эти даты на корректность. Т. е. для каждой даты возвращает True (дата корректна) или False (некорректная дата)."
   ]
  },
  {
   "cell_type": "code",
   "execution_count": 10,
   "metadata": {},
   "outputs": [
    {
     "name": "stdout",
     "output_type": "stream",
     "text": [
      "[False, False, False, True, False, False, False, False, False, False]\n"
     ]
    }
   ],
   "source": [
    "# Логика:\n",
    "# Задаем правильный формат correct = '%Y-%m-%d\n",
    "# Каждую датьу из входного потока проверяем на соответствие и возвращаем истинность проверки\n",
    "\n",
    "from datetime import datetime\n",
    "\n",
    "def is_correct_date(date_, correct = '%Y-%m-%d'): # можно на вход функции подать свой формат проверки\n",
    "    result = []\n",
    "    for dt in date_:\n",
    "        try:\n",
    "            datetime.strptime(dt, correct) \n",
    "            result.append(True)\n",
    "        except:            \n",
    "            result.append(False)\n",
    "    return result\n",
    "\n",
    "# проверим\n",
    "dates = [\n",
    "    '12345656778', 'abcdefg', '2012-12,12', '2018-12-12', '2018-13-30', '2019-01-32', '2019.02.30','2019.2.19',\n",
    "    datetime(2019,12,11), '2019.12.11'\n",
    "]\n",
    "print(is_correct_date(dates))\n",
    "#print(is_correct_date(dates, '%Y.%m.%d'))"
   ]
  },
  {
   "cell_type": "markdown",
   "metadata": {},
   "source": [
    "## Задание 3\n",
    "Напишите функцию date_range, которая возвращает список дат за период от start_date до end_date.   \n",
    "Даты должны вводиться в формате YYYY-MM-DD.   \n",
    "В случае неверного формата или при start_date > end_date должен возвращаться пустой список.\n"
   ]
  },
  {
   "cell_type": "code",
   "execution_count": 26,
   "metadata": {},
   "outputs": [
    {
     "name": "stdout",
     "output_type": "stream",
     "text": [
      "Result for 12345656778..abcdefg: []\n",
      "Result for 2018-01-12..2017-12-12: []\n",
      "Result for 2018-01-01..2018-01-07: [datetime.datetime(2018, 1, 1, 0, 0), datetime.datetime(2018, 1, 2, 0, 0), datetime.datetime(2018, 1, 3, 0, 0), datetime.datetime(2018, 1, 4, 0, 0), datetime.datetime(2018, 1, 5, 0, 0), datetime.datetime(2018, 1, 6, 0, 0), datetime.datetime(2018, 1, 7, 0, 0)]\n"
     ]
    }
   ],
   "source": [
    "from datetime import datetime\n",
    "from datetime import timedelta\n",
    "# https://docs.python.org/3.3/library/datetime.html\n",
    "\n",
    "# проверим\n",
    "dates = [\n",
    "    ('12345656778', 'abcdefg'), # неверный формат\n",
    "    ('2018-01-12', '2017-12-12'), # неверный диапазон\n",
    "    ('2018-01-01', '2018-01-07') # правильная неделя\n",
    "]\n",
    "\n",
    "# Возьмем логику проверки из предыдущего задания\n",
    "def is_date_correct(date_, correct = '%Y-%m-%d'):\n",
    "    if isinstance(date_, datetime):\n",
    "        return date_\n",
    "    date_ = str(date_)\n",
    "    return datetime.strptime(date_, correct)\n",
    "\n",
    "\n",
    "def date_range(start_, end_):\n",
    "    try:\n",
    "        start_ = is_date_correct(start_)\n",
    "        end_ = is_date_correct(end_)\n",
    "        days_=[]\n",
    "\n",
    "        if start_ <= end_: # второе условие задачи\n",
    "            days_ = [start_ + timedelta(days = i) for i in range((end_ - start_).days + 1)] \n",
    "            # +1 нужно для включения конечной даты\n",
    "            return days_\n",
    "            \n",
    "        else:\n",
    "            raise Exception('Дата начала периода должна быть мегньше даты окончания')\n",
    "        \n",
    "    except:\n",
    "        return []\n",
    "    \n",
    "\n",
    "\n",
    "for s, e in dates:        \n",
    "    result = date_range(s, e) # Объекты формата datetime\n",
    "    print('Result for {}..{}: {}'.format(s, e, result))\n"
   ]
  },
  {
   "cell_type": "markdown",
   "metadata": {},
   "source": [
    "## Задание 4 (бонусное)\n",
    "Ваш коллега прислал код функции:\n",
    "\n",
    "DEFAULT_USER_COUNT = 3\n",
    "\n",
    "def delete_and_return_last_user(region, default_list=[‘A100’, ‘A101’, ‘A102’]):\n",
    "\"\"“\n",
    "Удаляет из списка default_list последнего пользователя\n",
    "и возвращает ID нового последнего пользователя.\n",
    "”\"\"\n",
    "element_to_delete = default_list[-1]\n",
    "default_list.remove(element_to_delete)\n",
    "\n",
    "return default_list[DEFAULT_USER_COUNT-2]\n",
    "При однократном вызове этой функции все работает корректно:\n",
    "delete_and_return_last_user(1)\n",
    "‘A101’\n",
    "\n",
    "Однако, при повторном вызове получается ошибка IndexError: list index out of range.\n",
    "\n",
    "Задание:\n",
    "\n",
    "Что значит ошибка list index out of range?\n",
    "Почему при первом запуске функция работает корректно, а при втором - нет?"
   ]
  },
  {
   "cell_type": "code",
   "execution_count": 28,
   "metadata": {},
   "outputs": [
    {
     "data": {
      "text/plain": [
       "'A101'"
      ]
     },
     "execution_count": 28,
     "metadata": {},
     "output_type": "execute_result"
    }
   ],
   "source": [
    "DEFAULT_USER_COUNT = 3\n",
    "\n",
    "def delete_and_return_last_user(region, default_list=['A100', 'A101', 'A102']):\n",
    "    # Удаляет из списка default_list последнего пользователя и возвращает ID нового последнего пользователя. \n",
    "    element_to_delete = default_list[-1] \n",
    "    default_list.remove(element_to_delete)\n",
    "    \n",
    "    return default_list[DEFAULT_USER_COUNT-2]\n",
    "\n",
    "delete_and_return_last_user(1)"
   ]
  },
  {
   "cell_type": "code",
   "execution_count": 29,
   "metadata": {},
   "outputs": [
    {
     "ename": "IndexError",
     "evalue": "list index out of range",
     "output_type": "error",
     "traceback": [
      "\u001b[0;31m---------------------------------------------------------------------------\u001b[0m",
      "\u001b[0;31mIndexError\u001b[0m                                Traceback (most recent call last)",
      "\u001b[0;32m<ipython-input-29-bfb6c4f8c48e>\u001b[0m in \u001b[0;36m<module>\u001b[0;34m\u001b[0m\n\u001b[0;32m----> 1\u001b[0;31m \u001b[0mdelete_and_return_last_user\u001b[0m\u001b[0;34m(\u001b[0m\u001b[0;36m1\u001b[0m\u001b[0;34m)\u001b[0m\u001b[0;34m\u001b[0m\u001b[0;34m\u001b[0m\u001b[0m\n\u001b[0m",
      "\u001b[0;32m<ipython-input-28-d24bc6a11220>\u001b[0m in \u001b[0;36mdelete_and_return_last_user\u001b[0;34m(region, default_list)\u001b[0m\n\u001b[1;32m      6\u001b[0m     \u001b[0mdefault_list\u001b[0m\u001b[0;34m.\u001b[0m\u001b[0mremove\u001b[0m\u001b[0;34m(\u001b[0m\u001b[0melement_to_delete\u001b[0m\u001b[0;34m)\u001b[0m\u001b[0;34m\u001b[0m\u001b[0;34m\u001b[0m\u001b[0m\n\u001b[1;32m      7\u001b[0m \u001b[0;34m\u001b[0m\u001b[0m\n\u001b[0;32m----> 8\u001b[0;31m     \u001b[0;32mreturn\u001b[0m \u001b[0mdefault_list\u001b[0m\u001b[0;34m[\u001b[0m\u001b[0mDEFAULT_USER_COUNT\u001b[0m\u001b[0;34m-\u001b[0m\u001b[0;36m2\u001b[0m\u001b[0;34m]\u001b[0m\u001b[0;34m\u001b[0m\u001b[0;34m\u001b[0m\u001b[0m\n\u001b[0m\u001b[1;32m      9\u001b[0m \u001b[0;34m\u001b[0m\u001b[0m\n\u001b[1;32m     10\u001b[0m \u001b[0mdelete_and_return_last_user\u001b[0m\u001b[0;34m(\u001b[0m\u001b[0;36m1\u001b[0m\u001b[0;34m)\u001b[0m\u001b[0;34m\u001b[0m\u001b[0;34m\u001b[0m\u001b[0m\n",
      "\u001b[0;31mIndexError\u001b[0m: list index out of range"
     ]
    }
   ],
   "source": [
    "delete_and_return_last_user(1)"
   ]
  },
  {
   "cell_type": "markdown",
   "metadata": {},
   "source": [
    "### Элементарно, Ватсон!\n",
    "### По-порядку:\n",
    "1. IndexError: list index out of range - отсутствует запрашиваемый элемент списка\n",
    "Ошибка возникает в следствие некорректной инициализации списка = default_list \n",
    "При первом и поторных вызовах у нас используется один и тот же экземляр этого списка.\n",
    "2. А в самой функции методом remove мы этот экземпляр при первом вызове функции \"подрезаем\":\n",
    "Длина списка при втором вызове становится уже = 1 и у нас нет элемента с индексом [1]\n",
    "\n",
    "Лекарство: \n",
    "Тут в зависимости от целей этой функции и что нужно делать со списком   \n",
    "Может быть имеет смысл передавать в качестве параметра пользовательский, а в самой функции хранить некий дефолтный список "
   ]
  },
  {
   "cell_type": "code",
   "execution_count": 45,
   "metadata": {},
   "outputs": [
    {
     "data": {
      "text/plain": [
       "'A101'"
      ]
     },
     "execution_count": 45,
     "metadata": {},
     "output_type": "execute_result"
    }
   ],
   "source": [
    "# Можно поправить так:\n",
    "#DEFAULT_USER_COUNT = 3\n",
    "\n",
    "def my_delete_and_return_last_user(region, my_default_list = None):\n",
    "#     \"\"\"\n",
    "#     Удаляет из списка default_list последнего пользователя\n",
    "#     и возвращает ID нового последнего пользователя.\n",
    "#     \"\"\"\n",
    "    if my_default_list is None:\n",
    "        my_default_list = ['A100', 'A101', 'A102']\n",
    "    element_to_delete = my_default_list[-1]\n",
    "    my_default_list.remove(element_to_delete)\n",
    "#    print(len(my_default_list))\n",
    "    if len(my_default_list) == 0:\n",
    "        return None\n",
    "#    print(my_default_list)\n",
    "    return my_default_list[-1]\n",
    "\n",
    "my_delete_and_return_last_user(1)\n"
   ]
  },
  {
   "cell_type": "code",
   "execution_count": null,
   "metadata": {},
   "outputs": [],
   "source": []
  },
  {
   "cell_type": "code",
   "execution_count": null,
   "metadata": {},
   "outputs": [],
   "source": []
  }
 ],
 "metadata": {
  "kernelspec": {
   "display_name": "Python 3",
   "language": "python",
   "name": "python3"
  },
  "language_info": {
   "codemirror_mode": {
    "name": "ipython",
    "version": 3
   },
   "file_extension": ".py",
   "mimetype": "text/x-python",
   "name": "python",
   "nbconvert_exporter": "python",
   "pygments_lexer": "ipython3",
   "version": "3.8.3"
  }
 },
 "nbformat": 4,
 "nbformat_minor": 4
}
