{
 "cells": [
  {
   "cell_type": "code",
   "execution_count": null,
   "metadata": {},
   "outputs": [
    {
     "name": "stdout",
     "output_type": "stream",
     "text": [
      "Введите команду: p\n",
      "p. look_for_name\n",
      "Введите номер документа: 11-2\n",
      "Результат:\n",
      "p. look_for_name\n"
     ]
    }
   ],
   "source": [
    "documents = [\n",
    "{'type': 'passport', 'number': '2207 876234', 'name': 'Василий Гупкин'},\n",
    "{'type': 'invoice', 'number': '11-2', 'name': 'Геннадий Покемонов'},\n",
    "{'type': 'insurance', 'number': '10006', 'name': 'Аристарх Павлов'}\n",
    "]\n",
    "directories = {\n",
    "'1': ['2207 876234', '11-2'],\n",
    "'2': ['10006'],\n",
    "'3': []\n",
    "}\n",
    "\n",
    "\n",
    "# # Функция проверки команды\n",
    "# def my_commands(map, comm):\n",
    "#     if comm in map:\n",
    "#         return map[comm].__call__()\n",
    "#     else:\n",
    "#         return \"Команда не найдена\"\n",
    "\n",
    "\n",
    "#def my_commands():       \n",
    "#     while comm != 'q':\n",
    "#         comm = input('Введите команду:')\n",
    "#         if comm == 'p':\n",
    "#             print(look_for_name())\n",
    "#         elif comm == 's':\n",
    "#             print(look_for_dir())\n",
    "#         elif comm == 'l':\n",
    "#             print('Результат:')\n",
    "#             look_for_info()\n",
    "#         elif comm == 'ls':\n",
    "#             print('Результат:')\n",
    "#             print(list_for_dir())\n",
    "#         elif comm == 'as':\n",
    "#             adir = add_for_dir(input('Введите номер полки: '))\n",
    "#             print('Результат:')\n",
    "#             if adir != 0:\n",
    "#                 print('Полка добавлена.' + list_for_dir())\n",
    "#             else:\n",
    "#                 print('Такая полка уже существует.' + list_for_dir())\n",
    "#         elif comm == 'ds':\n",
    "#             ddir = del_for_dir(input('Введите номер полки: '))\n",
    "#             print('Результат:')\n",
    "#             print(ddir + list_for_dir())\n",
    "#         elif comm == 'q':\n",
    "#             print('Завершение работы программы.')\n",
    "#             break\n",
    "#         else:\n",
    "#             print('Команда не найдена')\n",
    "\n",
    "# Функция поиска владельца документа по номеру\n",
    "# Результат: Владелец документа: Аристарх Павлов\n",
    "def look_for_name():\n",
    "    doc_number = input('Введите номер документа: ')\n",
    "    p = ''\n",
    "    print('Результат:')\n",
    "    for n in documents:\n",
    "        if doc_number == n['number']:    \n",
    "            p = 'Владелец документа: ' + n['name']\n",
    "            break\n",
    "    return 'Документ не найден в базе'\n",
    "##\n",
    "\n",
    "\n",
    "# Функция поиска полки/папки по номеру\n",
    "# Результат: Документ хранится на полке: 2\n",
    "def look_for_dir():\n",
    "    doc_number = input('Введите номер документа: ')\n",
    "    print('Результат:')\n",
    "    s = ''\n",
    "    for n in directories:\n",
    "        if doc_number in directories[n]:\n",
    "            print('Документ хранится на полке: ', n)\n",
    "            break\n",
    "    print('Документ не найден в базе.')\n",
    "##\n",
    "\n",
    "# Функция листинга всех документов\n",
    "# Результат: №: 2207 876234, тип: passport, владелец: Василий Гупкин, полка хранения: 1\n",
    "def look_for_info():\n",
    "    for i in documents:\n",
    "        string = '№: ' + i['number'] + ', тип: ' + i['type'] + ', владелец: ' + i['name']\n",
    "#        print(string)\n",
    "        for j in directories:\n",
    "            s = ', полка хранения: '\n",
    "            if i['number'] in directories[j]:   \n",
    "                s = s + j\n",
    "                break\n",
    "            else:\n",
    "                s = s + 'не найдена'      \n",
    "        print(string + s)\n",
    "##\n",
    "\n",
    "# Пункт 4. Пользователь по команде “as” может добавить новую полку\n",
    "# Полка добавлена. Текущий перечень полок: 1, 2, 3, 10.\n",
    "def list_for_dir():\n",
    "    s = []\n",
    "    for i in directories:\n",
    "        s.append(int(i))\n",
    "    result = ('Текущий перечень полок: ' + str(s).strip('[]'))\n",
    "    return result\n",
    "\n",
    "def add_for_dir(number):\n",
    "    if number != 0:\n",
    "        if number not in directories:\n",
    "            directories[number] = []\n",
    "            return number\n",
    "        else:\n",
    "            return 0\n",
    "    else:\n",
    "        print('Некорректный номер полки')\n",
    "##\n",
    "\n",
    "# Пункт 5. Пользователь по команде “ds” может удалить существующую полку из данных \n",
    "# (только если она пустая)\n",
    "# Полка удалена. Текущий перечень полок: 1, 2.\n",
    "# На полке есть документы, удалите их перед удалением полки. Текущий перечень полок: 1, 2, 3.\n",
    "def del_for_dir(dir_number):\n",
    "    if dir_number in directories:\n",
    "        for key, value in directories.items():\n",
    "            if value == '':\n",
    "                key.remove(dir_number)\n",
    "                return 'Полка удалена.'\n",
    "            else:\n",
    "                return 'На полке есть документы, удалите их перед удалением полки.'\n",
    "    else:\n",
    "        return 'Такой полки не существует.'\n",
    "##\n",
    "\n",
    "\n",
    "# Словарь команд\n",
    "comm_dict = {\n",
    "    'p':look_for_name,\n",
    "    's':look_for_dir,\n",
    "    'q':exit    \n",
    "}\n",
    "\n",
    "comm = input('Введите команду: ')\n",
    "while comm != 'q':\n",
    "    if comm in comm_dict.keys():\n",
    "        value = comm_dict.get(comm)\n",
    "        print(str(comm) + \". \" + value.__name__)\n",
    "        comm_dict[comm]()\n",
    "    else:\n",
    "        print(\"Команда не найдена\")"
   ]
  },
  {
   "cell_type": "code",
   "execution_count": 13,
   "metadata": {},
   "outputs": [
    {
     "data": {
      "text/plain": [
       "'MI'"
      ]
     },
     "execution_count": 13,
     "metadata": {},
     "output_type": "execute_result"
    }
   ],
   "source": [
    "# make a dictionary of US states and major cities\n",
    "cities = {'San Diego':'CA', 'New York':'NY', 'Detroit':'MI'}\n",
    "\n",
    "# define a function to use on such a dictionary\n",
    "def find_city (map, city):\n",
    "    # does something, returns some value\n",
    "    if city in map:\n",
    "        return map[city]\n",
    "    else:\n",
    "        return \"Not found\"\n",
    "\n",
    "find_city (cities, 'Detroit')"
   ]
  },
  {
   "cell_type": "code",
   "execution_count": null,
   "metadata": {},
   "outputs": [],
   "source": []
  },
  {
   "cell_type": "code",
   "execution_count": 1,
   "metadata": {},
   "outputs": [
    {
     "name": "stdout",
     "output_type": "stream",
     "text": [
      "P\n",
      "playing\n"
     ]
    }
   ],
   "source": [
    "def p():\n",
    "    print('playing')\n",
    "\n",
    "def l():\n",
    "    print('listening')\n",
    "\n",
    "def e():\n",
    "    print('exit')\n",
    "\n",
    "actions = {'P' : p, 'L' : l, 'E' : e}\n",
    "\n",
    "act = input()\n",
    "\n",
    "if act in actions.keys():\n",
    "     actions[act]()\n",
    "    "
   ]
  },
  {
   "cell_type": "code",
   "execution_count": null,
   "metadata": {},
   "outputs": [],
   "source": []
  },
  {
   "cell_type": "code",
   "execution_count": null,
   "metadata": {},
   "outputs": [],
   "source": []
  },
  {
   "cell_type": "code",
   "execution_count": null,
   "metadata": {},
   "outputs": [],
   "source": [
    "   "
   ]
  },
  {
   "cell_type": "code",
   "execution_count": null,
   "metadata": {},
   "outputs": [],
   "source": []
  },
  {
   "cell_type": "code",
   "execution_count": null,
   "metadata": {},
   "outputs": [],
   "source": []
  }
 ],
 "metadata": {
  "kernelspec": {
   "display_name": "Python 3",
   "language": "python",
   "name": "python3"
  },
  "language_info": {
   "codemirror_mode": {
    "name": "ipython",
    "version": 3
   },
   "file_extension": ".py",
   "mimetype": "text/x-python",
   "name": "python",
   "nbconvert_exporter": "python",
   "pygments_lexer": "ipython3",
   "version": "3.8.3"
  }
 },
 "nbformat": 4,
 "nbformat_minor": 4
}
