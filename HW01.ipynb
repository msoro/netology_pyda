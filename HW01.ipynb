{
 "cells": [
  {
   "cell_type": "code",
   "execution_count": 1,
   "metadata": {},
   "outputs": [],
   "source": [
    "# Сорокин Максим\n",
    "# Домашнее задание Блок 1\n",
    "\n"
   ]
  },
  {
   "cell_type": "code",
   "execution_count": null,
   "metadata": {},
   "outputs": [],
   "source": [
    "#Задание 1\n",
    "#Даны 2 переменных, в которых хранятся строки произвольной длины: phrase_1 и phrase_2.\n",
    "#Напишите код, который проверяет какая из этих строк длиннее.\n",
    "\n",
    "phrase_1 = input('Введите Фразу 1: ')\n",
    "phrase_2 = input('Введите Фразу 2: ')\n",
    "if len(phrase_1) > len(phrase_2): print ('Фраза 1 длиннее Фразы 2')\n",
    "elif len(phrase_1) == len(phrase_2): print ('Фразы равной длины')\n",
    "else: print('Фраза 2 длиннее Фразы 1')"
   ]
  },
  {
   "cell_type": "code",
   "execution_count": 9,
   "metadata": {},
   "outputs": [
    {
     "name": "stdout",
     "output_type": "stream",
     "text": [
      "Введите год: 2016\n",
      "Високосный год\n"
     ]
    }
   ],
   "source": [
    "#Задание 2\n",
    "#Дана переменная, в которой хранится четырехзначное число (год). \n",
    "#Необходимо написать программу, которая выведет, является ли данный год високосным или обычным.\n",
    "\n",
    "year = input('Введите год: ')\n",
    "year = int(year)\n",
    "if (year % 4) == 0: print('Високосный год')\n",
    "else: print('Обычный год')"
   ]
  },
  {
   "cell_type": "code",
   "execution_count": 10,
   "metadata": {},
   "outputs": [
    {
     "name": "stdout",
     "output_type": "stream",
     "text": [
      "Введите месяц: август\n",
      "Введите число: 30\n",
      "Дева\n"
     ]
    }
   ],
   "source": [
    "#Задание 3\n",
    "#Необходимо написать программу, которая будет запрашивать у пользователя месяц и дату рождения \n",
    "#и выводить соответствующий знак зодиака.\n",
    "\n",
    "month = input('Введите месяц: ')\n",
    "day = input('Введите число: ')\n",
    "day = int(day)\n",
    "\n",
    "if month == 'декабрь':\n",
    "    if (1 <= day <= 22): print('Стрелец')\n",
    "    elif (22 < day <= 31): print('Козерог')\n",
    "    else: print(\"Ошибочное число:\", day)\n",
    "elif month == 'январь':\n",
    "    if (1 <= day <= 19): print('Козерог')\n",
    "    elif (19 < day <= 31): print('Водолей')\n",
    "    else: print(\"Ошибочное число:\", day)\n",
    "elif month == 'февраль':\n",
    "    if (1 <= day <= 19): print('Водолей')\n",
    "    elif (19 < day <= 28): print('Рыбы')\n",
    "    else: print(\"Ошибочное число:\", day)\n",
    "elif month == 'март':\n",
    "    if (1 <= day <= 20): print('Рыбы')\n",
    "    elif (20 < day <= 31): print('Овен')\n",
    "    else: print(\"Ошибочное число:\", day)\n",
    "elif month == 'апрель':\n",
    "    if (1 <= day <= 20): print('Овен')\n",
    "    elif (20 < day <= 30): print('Телец')\n",
    "    else: print(\"Ошибочное число:\", day)\n",
    "elif month == 'май':\n",
    "    if (1 <= day <= 20): print('Телец')\n",
    "    elif (20 < day <= 31): print('Близнецы')\n",
    "    else: print(\"Ошибочное число:\", day)\n",
    "elif month == 'июнь':\n",
    "    if (1 <= day <= 20): print('Близнецы')\n",
    "    elif (20 < day <= 30): print('Рак')\n",
    "    else: print(\"Ошибочное число:\", day)\n",
    "elif month == 'июль':\n",
    "    if (1 <= day <= 22): print('Рак')\n",
    "    elif (22 < day <= 31): print('Лев')\n",
    "    else: print(\"Ошибочное число:\", day)\n",
    "elif month == 'август':\n",
    "    if (1 <= day <= 22): print('Лев')\n",
    "    elif (22 < day <= 31): print('Дева')\n",
    "    else: print(\"Ошибочное число:\", day)\n",
    "elif month == 'сентябрь':\n",
    "    if (1 <= day <= 22): print('Дева')\n",
    "    elif (22 < day <= 30): print('Весы')\n",
    "    else: print(\"Ошибочное число:\", day)\n",
    "elif month == 'октябрь':\n",
    "    if (1 <= day <= 22): print('Весы')\n",
    "    elif (22 < day <= 31): print('Скорпион')\n",
    "    else: print(\"Ошибочное число:\", day)\n",
    "elif month == 'ноябрь':\n",
    "    if (1 <= day <= 22): print('Скорпион')\n",
    "    elif (22 < day <= 30): print('Стрелец')\n",
    "    else: print(\"Ошибочное число:\", day)\n",
    "else:\n",
    "    print('Введите правильно месяц рождения')\n",
    "print('Конец программы')"
   ]
  },
  {
   "cell_type": "code",
   "execution_count": 1,
   "metadata": {},
   "outputs": [
    {
     "name": "stdout",
     "output_type": "stream",
     "text": [
      "Введите ширину товара: 12\n",
      "Введите длину товара: 205\n",
      "Введите высоту товара: 60\n",
      "Упаковка для лыж\n"
     ]
    }
   ],
   "source": [
    "#Задание 4\n",
    "#Вам нужно написать программу для подбора упаковок по размерам товара. \n",
    "#Размеры хранятся в переменных (в сантиметрах):\n",
    "\n",
    "#width = 10\n",
    "#length = 205\n",
    "#height = 5\n",
    "#Используйте следующие правила:\n",
    "\n",
    "#если каждое из трех измерений менее 15 сантиметров, то выведите на экран “Коробка №1”;\n",
    "#если хотя бы одно из измерений больше 15 сантиметров, но менее 50 сантиметров, то выводите “Коробка №2”;\n",
    "#если длина товара больше 2 метров, то выводите “Упаковка для лыж”;\n",
    "#во всех остальных случаях выводите “Стандартная коробка №3”.\n",
    "\n",
    "width = int(input('Введите ширину товара: '))\n",
    "length = int(input('Введите длину товара: '))\n",
    "height = int(input('Введите высоту товара: '))\n",
    "\n",
    "if (width <= 15) and (length <= 15) and (height <= 15): \n",
    "    print('Коробка №1')\n",
    "elif (15 < width < 50) or (15 < length < 50) or (15 < height < 50):\n",
    "    print('Коробка №2')\n",
    "elif length >= 200:\n",
    "    print('Упаковка для лыж')\n",
    "else: print('Стандартная коробка №3')\n",
    "print('Конец программы')"
   ]
  },
  {
   "cell_type": "code",
   "execution_count": 4,
   "metadata": {},
   "outputs": [
    {
     "name": "stdout",
     "output_type": "stream",
     "text": [
      "Введите 6-значное число: 456807\n",
      "Счастливый билет\n",
      "Конец программы\n"
     ]
    }
   ],
   "source": [
    "#Задание 5 (необязательное)\n",
    "#Дана переменная, в которой хранится шестизначное число (номер проездного билета). \n",
    "#Напишите программу, которая будет определять, является ли данный билет “счастливым”. \n",
    "#Билет считается счастливым, если сумма первых трех цифр совпадает с суммой последних трех цифр номера.\n",
    "\n",
    "width = str(input('Введите 6-значное число: '))\n",
    "if len(width) !=6: \n",
    "    print('Неверный формат числа!')\n",
    "else:\n",
    "    w1 = int(width[0])\n",
    "    w2 = int(width[1])\n",
    "    w3 = int(width[2])\n",
    "    w4 = int(width[3])\n",
    "    w5 = int(width[4])\n",
    "    w6 = int(width[5])\n",
    "    if (w1 + w2 + w3) == (w4 + w5 + w6):\n",
    "        print('Счастливый билет')\n",
    "    else: \n",
    "        print('Несчастливый билет')\n",
    "print('Конец программы')"
   ]
  },
  {
   "cell_type": "code",
   "execution_count": null,
   "metadata": {},
   "outputs": [],
   "source": []
  }
 ],
 "metadata": {
  "kernelspec": {
   "display_name": "Python 3",
   "language": "python",
   "name": "python3"
  },
  "language_info": {
   "codemirror_mode": {
    "name": "ipython",
    "version": 3
   },
   "file_extension": ".py",
   "mimetype": "text/x-python",
   "name": "python",
   "nbconvert_exporter": "python",
   "pygments_lexer": "ipython3",
   "version": "3.8.3"
  }
 },
 "nbformat": 4,
 "nbformat_minor": 4
}
