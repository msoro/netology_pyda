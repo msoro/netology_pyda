{
 "cells": [
  {
   "cell_type": "code",
   "execution_count": 1,
   "metadata": {},
   "outputs": [],
   "source": [
    "# Сорокин Максим\n",
    "# Домашнее задание Блок 1\n",
    "\n"
   ]
  },
  {
   "cell_type": "code",
   "execution_count": null,
   "metadata": {},
   "outputs": [],
   "source": [
    "#Задание 1\n",
    "#Даны 2 переменных, в которых хранятся строки произвольной длины: phrase_1 и phrase_2.\n",
    "#Напишите код, который проверяет какая из этих строк длиннее.\n",
    "\n",
    "phrase_1 = input('Введите Фразу 1: ')\n",
    "phrase_2 = input('Введите Фразу 2: ')\n",
    "if len(phrase_1) > len(phrase_2): print ('Фраза 1 длиннее Фразы 2')\n",
    "elif len(phrase_1) == len(phrase_2): print ('Фразы равной длины')\n",
    "else: print('Фраза 2 длиннее Фразы 1')"
   ]
  },
  {
   "cell_type": "code",
   "execution_count": 2,
   "metadata": {},
   "outputs": [
    {
     "name": "stdout",
     "output_type": "stream",
     "text": [
      "Введите год: 1904\n",
      "Високосный год\n"
     ]
    }
   ],
   "source": [
    "#Задание 2\n",
    "#Дана переменная, в которой хранится четырехзначное число (год). \n",
    "#Необходимо написать программу, которая выведет, является ли данный год високосным или обычным.\n",
    "\n",
    "year = input('Введите год: ')\n",
    "year = int(year)\n",
    "if (year % 4 == 0) and (year % 100 != 0) or (year % 400 == 0): print('Високосный год')\n",
    "else: print('Обычный год')"
   ]
  },
  {
   "cell_type": "code",
   "execution_count": 3,
   "metadata": {},
   "outputs": [
    {
     "name": "stdout",
     "output_type": "stream",
     "text": [
      "Введите день рождения:18\n",
      "Введите месяц рождения:8\n",
      "Введите год рождения:1971\n",
      "Знак зодиака:Лев\n",
      "Конец программы\n"
     ]
    }
   ],
   "source": [
    "#Задание 3\n",
    "#Необходимо написать программу, которая будет запрашивать у пользователя месяц и дату рождения \n",
    "#и выводить соответствующий знак зодиака.\n",
    "\n",
    "date = int(input(\"Введите день рождения:\"))\n",
    "month = input(\"Введите месяц рождения [напр.Август]:\"))\n",
    "year = int(input(\"Введите год рождения:\"))\n",
    "\n",
    "if (date>=22 and date<=31 and month=='Декабрь') or (month=='Январь' and date >= 1 and date <= 20):\n",
    "   print(\"Знак зодиака:Козерог\")\n",
    "elif (date>=21 and date<=31 and month=='Январь') or (month=='Февраль' and date >= 1 and date <= 18):\n",
    "   print(\"Знак зодиака:Водолей\")\n",
    "elif (date>=19 and date<=29 and month=='Февраль') or (month=='Март' and date >= 1 and date <= 20):\n",
    "   print(\"Знак зодиака:Рыбы\")\n",
    "elif (date >= 21 and date <= 31 and month == 'Март') or (month == 'Апрель' and date >= 1 and date <= 19):\n",
    "    print(\"Знак зодиака: Овен\")\n",
    "elif (date >= 20 and date <= 30 and month == 'Апрель') or (month == 'Май' and date >= 1 and date <=20):\n",
    "   print(\"Знак зодиака:Телец\")\n",
    "elif (date >= 21 and date <= 31 and month == 'Май') or (month == 'Июнь' and date >= 1 and date <= 21):\n",
    "   print(\"Знак зодиака:Близнецы\")\n",
    "elif (date >= 22 and date <= 30 and month == 'Июнь') or (month == 'Июль' and date >= 1 and date <= 22):\n",
    "   print(\"Знак зодиака:Рак\")\n",
    "elif (date >= 23 and date <= 31 and month == 'Июль') or (month == 'Август' and date >= 1 and date <= 22):\n",
    "   print(\"Знак зодиака:Лев\")\n",
    "elif (date >= 23 and date <= 31 and month == 'Август') or (month == 'Сентябрь' and date >= 1 and date <= 22):\n",
    "   print(\"Знак зодиака:Дева\")\n",
    "elif (date >= 23 and date <= 30 and month == 'Сентябрь') or (month == 'Октябрь' and date >= 1 and date <= 23):\n",
    "   print(\"Знак зодиака:Весы\")\n",
    "elif (date >= 24 and date <= 31 and month == 'Октябрь') or( month == 'Ноябрь' and date >= 1 and date <= 22):\n",
    "   print(\"Знак зодиака:Скорпион\")\n",
    "elif (date>=23 and date<=30 and month=='Ноябрь') or( month=='Декабрь' and date>=1 and date<=21):\n",
    "   print(\"Знак зодиака:Стрелец\")\n",
    "print('Конец программы')"
   ]
  },
  {
   "cell_type": "code",
   "execution_count": 6,
   "metadata": {},
   "outputs": [
    {
     "name": "stdout",
     "output_type": "stream",
     "text": [
      "Введите ширину товара: 45\n",
      "Введите длину товара: 205\n",
      "Введите высоту товара: 45\n",
      "Упаковка для лыж\n",
      "Конец программы\n"
     ]
    }
   ],
   "source": [
    "#Задание 4\n",
    "#Вам нужно написать программу для подбора упаковок по размерам товара. \n",
    "#Размеры хранятся в переменных (в сантиметрах):\n",
    "\n",
    "#width = 10\n",
    "#length = 205\n",
    "#height = 5\n",
    "#Используйте следующие правила:\n",
    "\n",
    "#если каждое из трех измерений менее 15 сантиметров, то выведите на экран “Коробка №1”;\n",
    "#если хотя бы одно из измерений больше 15 сантиметров, но менее 50 сантиметров, то выводите “Коробка №2”;\n",
    "#если длина товара больше 2 метров, то выводите “Упаковка для лыж”;\n",
    "#во всех остальных случаях выводите “Стандартная коробка №3”.\n",
    "\n",
    "width = int(input('Введите ширину товара: '))\n",
    "length = int(input('Введите длину товара: '))\n",
    "height = int(input('Введите высоту товара: '))\n",
    "\n",
    "if (width <= 15) and (length <= 15) and (height <= 15): \n",
    "    print('Коробка №1')\n",
    "elif (length < 200) and ((15 < width < 50) or (15 < length < 50) or (15 < height < 50)):\n",
    "    print('Коробка №2')\n",
    "elif length >= 200:\n",
    "    print('Упаковка для лыж')\n",
    "else: print('Стандартная коробка №3')\n",
    "print('Конец программы')"
   ]
  },
  {
   "cell_type": "code",
   "execution_count": 4,
   "metadata": {},
   "outputs": [
    {
     "name": "stdout",
     "output_type": "stream",
     "text": [
      "Введите 6-значное число: 456807\n",
      "Счастливый билет\n",
      "Конец программы\n"
     ]
    }
   ],
   "source": [
    "#Задание 5 (необязательное)\n",
    "#Дана переменная, в которой хранится шестизначное число (номер проездного билета). \n",
    "#Напишите программу, которая будет определять, является ли данный билет “счастливым”. \n",
    "#Билет считается счастливым, если сумма первых трех цифр совпадает с суммой последних трех цифр номера.\n",
    "\n",
    "width = str(input('Введите 6-значное число: '))\n",
    "if len(width) !=6: \n",
    "    print('Неверный формат числа!')\n",
    "else:\n",
    "    w1 = int(width[0])\n",
    "    w2 = int(width[1])\n",
    "    w3 = int(width[2])\n",
    "    w4 = int(width[3])\n",
    "    w5 = int(width[4])\n",
    "    w6 = int(width[5])\n",
    "    if (w1 + w2 + w3) == (w4 + w5 + w6):\n",
    "        print('Счастливый билет')\n",
    "    else: \n",
    "        print('Несчастливый билет')\n",
    "print('Конец программы')"
   ]
  },
  {
   "cell_type": "code",
   "execution_count": 8,
   "metadata": {},
   "outputs": [
    {
     "name": "stdout",
     "output_type": "stream",
     "text": [
      "Введите тип фигуры [круг, треугольник, прямоугольник]: прямоугольник\n",
      "Введите длину стороны A: 2\n",
      "Введите длину стороны B: 5\n",
      "Площадь прямоугольника:  10.00\n",
      "Конец программы\n"
     ]
    }
   ],
   "source": [
    "#Задание 6 (необязательное)\n",
    "#Напишите программу, которая сможет вычислять площади трех фигур (круг, треугольник и прямоугольник). Тип фигуры запрашиваем через пользовательский ввод, после чего делаем запрос характеристик фигуры:\n",
    "#если пользователь выбрал круг, запрашиваем его радиус,\n",
    "#если треугольник – длины трех его сторон;\n",
    "#если прямоугольник – длины двух его сторон.\n",
    "\n",
    "ftype = str(input('Введите тип фигуры [круг, треугольник, прямоугольник]: '))\n",
    "\n",
    "if ftype == 'прямоугольник':\n",
    "    a = int(input('Введите длину стороны A: '))\n",
    "    b = int(input('Введите длину стороны B: '))\n",
    "    print ('Площадь прямоугольника: ', \"%.2f\" % (a * b))\n",
    "elif ftype == 'треугольник': \n",
    "    a = int(input('Введите длину стороны A: '))\n",
    "    b = int(input('Введите длину стороны B: '))\n",
    "    c = int(input('Введите длину стороны C: '))\n",
    "    p = (a + b + c) / 2\n",
    "    print ('Площадь треугольника: ', \"%.2f\" % ((p * (p - a) * (p - b) * (p - c)) ** 0.5))\n",
    "elif ftype == 'круг':\n",
    "    r = int(input('Введите радиус: '))\n",
    "    print ('Площадь круга: ', \"%.2f\" % (3.14 * r **2))\n",
    "print('Конец программы')"
   ]
  },
  {
   "cell_type": "code",
   "execution_count": null,
   "metadata": {},
   "outputs": [],
   "source": []
  }
 ],
 "metadata": {
  "kernelspec": {
   "display_name": "Python 3",
   "language": "python",
   "name": "python3"
  },
  "language_info": {
   "codemirror_mode": {
    "name": "ipython",
    "version": 3
   },
   "file_extension": ".py",
   "mimetype": "text/x-python",
   "name": "python",
   "nbconvert_exporter": "python",
   "pygments_lexer": "ipython3",
   "version": "3.8.3"
  }
 },
 "nbformat": 4,
 "nbformat_minor": 4
}
