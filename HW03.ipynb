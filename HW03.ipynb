{
 "cells": [
  {
   "cell_type": "code",
   "execution_count": 11,
   "metadata": {},
   "outputs": [
    {
     "name": "stdout",
     "output_type": "stream",
     "text": [
      "{98, 35, 15, 213, 54, 119}\n"
     ]
    }
   ],
   "source": [
    "# Задание 1\n",
    "# Дана переменная, в которой хранится словарь, содержащий гео-метки для каждого пользователя \n",
    "# (пример структуры данных приведен ниже). \n",
    "# Вам необходимо написать программу, которая выведет на экран множество уникальных гео-меток всех пользователей.\n",
    "\n",
    "ids = {'user1': [213, 213, 213, 15, 213],'user2': [54, 54, 119, 119, 119],'user3': [213, 98, 98, 35]}\n",
    "# Результат: {98, 35, 15, 213, 54, 119}\n",
    "\n",
    "# Variant A\n",
    "uniq = list()\n",
    "for codes in ids.values():\n",
    "    for x in codes:\n",
    "        uniq.append(x)\n",
    "print(set(uniq))\n",
    "          \n",
    "# Variant B\n",
    "# uniq = set()\n",
    "# [uniq.update(set(x) if isinstance(x, (list, set)) else [x]) for x in ids.values()]\n",
    "# print(uniq)\n"
   ]
  },
  {
   "cell_type": "code",
   "execution_count": 5,
   "metadata": {},
   "outputs": [
    {
     "name": "stdout",
     "output_type": "stream",
     "text": [
      "Результат: \n",
      "Поисковых запросов, содержащих 2 слов(а):  42.86 %\n",
      "Поисковых запросов, содержащих 3 слов(а):  57.14 %\n"
     ]
    }
   ],
   "source": [
    "# Задание 2\n",
    "# Дана переменная, в которой хранится список поисковых запросов пользователя \n",
    "# (пример структуры данных приведен ниже). Вам необходимо написать программу, \n",
    "# которая выведет на экран распределение количества слов в запросах в требуемом виде.\n",
    "# Пример работы программы:\n",
    "\n",
    "queries = [\n",
    "'смотреть сериалы онлайн',\n",
    "'новости спорта',\n",
    "'афиша кино',\n",
    "'курс доллара',\n",
    "'сериалы этим летом',\n",
    "'курс по питону',\n",
    "'сериалы про спорт',\n",
    "]\n",
    "# Результат:\n",
    "# Поисковых запросов, содержащих 2 слов(а): 42.86%\n",
    "# Поисковых запросов, содержащих 3 слов(а): 57.14%\n",
    "text_len = []\n",
    "text_len = [len(x.split()) for x in queries]\n",
    "myset = set(text_len)\n",
    "print('Результат: ')\n",
    "\n",
    "for i in myset:\n",
    "    n = text_len.count(i)\n",
    "    print('Поисковых запросов, содержащих', i, 'слов(а): ', \"%.2f\" % (n*100/len(text_len)), '%')"
   ]
  },
  {
   "cell_type": "code",
   "execution_count": 24,
   "metadata": {},
   "outputs": [
    {
     "name": "stdout",
     "output_type": "stream",
     "text": [
      "Результат:\n"
     ]
    },
    {
     "data": {
      "text/plain": [
       "{'adwords': {'ROI': 2.94, 'cost': 34, 'revenue': 35},\n",
       " 'facebook': {'ROI': -6.36, 'revenue': 103, 'cost': 110},\n",
       " 'twitter': {'ROI': -54.17, 'revenue': 11, 'cost': 24},\n",
       " 'vk': {'ROI': 5.1, 'cost': 98, 'revenue': 103},\n",
       " 'yandex': {'ROI': 16.99, 'cost': 153, 'revenue': 179}}"
      ]
     },
     "execution_count": 24,
     "metadata": {},
     "output_type": "execute_result"
    }
   ],
   "source": [
    "# Задание 3\n",
    "# Дана переменная, в которой хранится информация о затратах и доходе рекламных кампаний по различным источникам. \n",
    "# Необходимо дополнить исходную структуру показателем ROI, который рассчитаем по формуле: \n",
    "# (revenue / cost - 1) * 100\n",
    "# Пример работы программы:\n",
    "\n",
    "results = {\n",
    "'vk': {'revenue': 103, 'cost': 98},\n",
    "'yandex': {'revenue': 179, 'cost': 153},\n",
    "'facebook': {'revenue': 103, 'cost': 110},\n",
    "'adwords': {'revenue': 35, 'cost': 34},\n",
    "'twitter': {'revenue': 11, 'cost': 24},\n",
    "}\n",
    "results_s = {}\n",
    "# Цикл по источникам:\n",
    "for source, info in results.items():\n",
    "    # Добавляем ROI\n",
    "    x = (info['revenue']/info['cost'] - 1) * 100\n",
    "    a = float('{:.2f}'.format(x))\n",
    "    info['ROI'] = a    \n",
    "    # Сортируем информацию кампаний внутри одного источника\n",
    "    info_sorted = {k: info[k] for k in sorted(info, key=info.get, reverse=False)}\n",
    "    results_s[source] = info_sorted \n",
    "#    print(info_sorted)\n",
    "rs = {}\n",
    "for i, s in sorted(results_s.items()):\n",
    "    rs[i] = s\n",
    "print('Результат:')\n",
    "rs\n",
    "\n",
    "# Результат:\n",
    "# {'adwords': {'ROI': 2.94, 'cost': 34, 'revenue': 35},\n",
    "# 'facebook': {'ROI': -6.36, 'cost': 110, 'revenue': 103},\n",
    "# 'twitter': {'ROI': -54.17, 'cost': 24, 'revenue': 11},\n",
    "# 'vk': {'ROI': 5.1, 'cost': 98, 'revenue': 103},\n",
    "# 'yandex': {'ROI': 16.99, 'cost': 153, 'revenue': 179}}"
   ]
  },
  {
   "cell_type": "code",
   "execution_count": 32,
   "metadata": {},
   "outputs": [
    {
     "name": "stdout",
     "output_type": "stream",
     "text": [
      "Результат: Максимальный объем продаж на рекламном канале: vk\n"
     ]
    }
   ],
   "source": [
    "# Задание 4\n",
    "# Дана переменная, в которой хранится статистика рекламных каналов по объемам продаж \n",
    "# (пример структуры данных приведен ниже). \n",
    "# Напишите программу, которая возвращает название канала с максимальным объемом продаж.\n",
    "# Пример работы программы:\n",
    "\n",
    "stats = {'facebook': 55, 'yandex': 115, 'vk': 120, 'google': 99, 'email': 42, 'ok': 98}\n",
    "stats_sorted = {k: stats[k] for k in sorted(stats, key=stats.get, reverse=True)}\n",
    "for i, channel in enumerate(stats_sorted):\n",
    "    print('Результат: Максимальный объем продаж на рекламном канале:', channel)\n",
    "    break\n",
    "# Результат: Максимальный объем продаж на рекламном канале: vk"
   ]
  },
  {
   "cell_type": "code",
   "execution_count": null,
   "metadata": {},
   "outputs": [],
   "source": []
  },
  {
   "cell_type": "code",
   "execution_count": null,
   "metadata": {},
   "outputs": [],
   "source": []
  }
 ],
 "metadata": {
  "kernelspec": {
   "display_name": "Python 3",
   "language": "python",
   "name": "python3"
  },
  "language_info": {
   "codemirror_mode": {
    "name": "ipython",
    "version": 3
   },
   "file_extension": ".py",
   "mimetype": "text/x-python",
   "name": "python",
   "nbconvert_exporter": "python",
   "pygments_lexer": "ipython3",
   "version": "3.8.3"
  }
 },
 "nbformat": 4,
 "nbformat_minor": 4
}
