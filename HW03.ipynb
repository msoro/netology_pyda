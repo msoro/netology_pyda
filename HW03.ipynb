{
 "cells": [
  {
   "cell_type": "code",
   "execution_count": 11,
   "metadata": {},
   "outputs": [
    {
     "name": "stdout",
     "output_type": "stream",
     "text": [
      "{98, 35, 15, 213, 54, 119}\n"
     ]
    }
   ],
   "source": [
    "# Задание 1\n",
    "# Дана переменная, в которой хранится словарь, содержащий гео-метки для каждого пользователя \n",
    "# (пример структуры данных приведен ниже). \n",
    "# Вам необходимо написать программу, которая выведет на экран множество уникальных гео-меток всех пользователей.\n",
    "\n",
    "ids = {'user1': [213, 213, 213, 15, 213],'user2': [54, 54, 119, 119, 119],'user3': [213, 98, 98, 35]}\n",
    "# Результат: {98, 35, 15, 213, 54, 119}\n",
    "\n",
    "# Variant A\n",
    "uniq = list()\n",
    "for codes in ids.values():\n",
    "    for x in codes:\n",
    "        uniq.append(x)\n",
    "print(set(uniq))\n",
    "          \n",
    "# Variant B\n",
    "# uniq = set()\n",
    "# [uniq.update(set(x) if isinstance(x, (list, set)) else [x]) for x in ids.values()]\n",
    "# print(uniq)\n"
   ]
  },
  {
   "cell_type": "code",
   "execution_count": null,
   "metadata": {},
   "outputs": [],
   "source": [
    "# Задание 2\n",
    "# Дана переменная, в которой хранится список поисковых запросов пользователя \n",
    "# (пример структуры данных приведен ниже). Вам необходимо написать программу, \n",
    "# которая выведет на экран распределение количества слов в запросах в требуемом виде.\n",
    "# Пример работы программы:\n",
    "\n",
    "queries = [\n",
    "‘смотреть сериалы онлайн’,\n",
    "‘новости спорта’,\n",
    "‘афиша кино’,\n",
    "‘курс доллара’,\n",
    "‘сериалы этим летом’,\n",
    "‘курс по питону’,\n",
    "‘сериалы про спорт’,\n",
    "]\n",
    "# Результат:\n",
    "# Поисковых запросов, содержащих 2 слов(а): 42.86%\n",
    "# Поисковых запросов, содержащих 3 слов(а): 57.14%"
   ]
  }
 ],
 "metadata": {
  "kernelspec": {
   "display_name": "Python 3",
   "language": "python",
   "name": "python3"
  },
  "language_info": {
   "codemirror_mode": {
    "name": "ipython",
    "version": 3
   },
   "file_extension": ".py",
   "mimetype": "text/x-python",
   "name": "python",
   "nbconvert_exporter": "python",
   "pygments_lexer": "ipython3",
   "version": "3.8.3"
  }
 },
 "nbformat": 4,
 "nbformat_minor": 4
}
