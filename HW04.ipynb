{
 "cells": [
  {
   "cell_type": "code",
   "execution_count": 1,
   "metadata": {},
   "outputs": [],
   "source": [
    "documents = [\n",
    "    {'type': 'passport', 'number': '2207 876234', 'name': 'Василий Гупкин'},\n",
    "    {'type': 'invoice', 'number': '11-2', 'name': 'Геннадий Покемонов'},\n",
    "    {'type': 'insurance', 'number': '10006', 'name': 'Аристарх Павлов'}\n",
    "]\n",
    "directories = {\n",
    "    '1': ['2207 876234', '11-2'],\n",
    "    '2': ['10006'],\n",
    "    '3': []\n",
    "}"
   ]
  },
  {
   "cell_type": "code",
   "execution_count": 4,
   "metadata": {},
   "outputs": [
    {
     "name": "stdout",
     "output_type": "stream",
     "text": [
      "Введите команду: s\n",
      "Введите номер документа: 11-2\n",
      "Результат:\n",
      "Документ хранится на полке: 1\n",
      "Введите команду: s\n",
      "Введите номер документа: 111\n",
      "Результат:\n",
      "Документ не найден в базе.\n",
      "Введите команду: p\n",
      "Введите номер документа: 111\n",
      "Результат:\n",
      "Документ не найден в базе.\n",
      "Введите команду: q\n"
     ]
    }
   ],
   "source": [
    "# Функция поиска владельца документа по номеру\n",
    "# Результат: Владелец документа: Аристарх Павлов\n",
    "def look_for_name():\n",
    "    doc_number = input('Введите номер документа: ')\n",
    "    s = ''\n",
    "    print('Результат:')\n",
    "    for n in documents:\n",
    "        if n['number'] == doc_number:\n",
    "            s = 'Владелец документа: ' + n['name']\n",
    "            break\n",
    "        else:\n",
    "            s = 'Документ не найден в базе.'\n",
    "    print(s)\n",
    "##\n",
    "# Функция поиска полки/папки по номеру\n",
    "# Результат: Документ хранится на полке: 2\n",
    "def look_for_dir():\n",
    "    doc_number = input('Введите номер документа: ')\n",
    "    s = ''\n",
    "    print('Результат:')\n",
    "    for i in directories:\n",
    "        if doc_number in directories[i]:\n",
    "            s = 'Документ хранится на полке: ' + i\n",
    "            break\n",
    "        else:\n",
    "            s = 'Документ не найден в базе.'\n",
    "    print(s)\n",
    "##\n",
    "\n",
    "# Словарь команд\n",
    "comm_dict = {\n",
    "    'p':look_for_name,\n",
    "    's':look_for_dir\n",
    "}\n",
    "\n",
    "# Функция ввода и проверки команды\n",
    "def my_commands():\n",
    "    comm = ''\n",
    "    while comm != 'q':\n",
    "        comm = input('Введите команду: ')\n",
    "        if comm in comm_dict.keys():\n",
    "            comm_dict[comm]()\n",
    "        elif comm == 'q':\n",
    "            break\n",
    "        else:\n",
    "            print(\"Команда не найдена\")\n",
    "\n",
    "##\n",
    "\n",
    "my_commands()"
   ]
  },
  {
   "cell_type": "code",
   "execution_count": null,
   "metadata": {},
   "outputs": [],
   "source": []
  }
 ],
 "metadata": {
  "kernelspec": {
   "display_name": "Python 3",
   "language": "python",
   "name": "python3"
  },
  "language_info": {
   "codemirror_mode": {
    "name": "ipython",
    "version": 3
   },
   "file_extension": ".py",
   "mimetype": "text/x-python",
   "name": "python",
   "nbconvert_exporter": "python",
   "pygments_lexer": "ipython3",
   "version": "3.8.3"
  }
 },
 "nbformat": 4,
 "nbformat_minor": 4
}
