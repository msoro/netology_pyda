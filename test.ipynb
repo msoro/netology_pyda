{
 "cells": [
  {
   "cell_type": "code",
   "execution_count": null,
   "metadata": {},
   "outputs": [],
   "source": [
    "# Словарь команд\n",
    "comm_dict = {\n",
    "    'p':look_for_name,\n",
    "    's':look_for_dir,\n",
    "    'q':exit    \n",
    "}\n",
    "\n",
    "comm = input('Введите команду: ')\n",
    "while comm != 'q':\n",
    "    if comm in comm_dict.keys():\n",
    "        value = comm_dict.get(comm)\n",
    "        print(str(comm) + \". \" + value.__name__)\n",
    "        comm_dict[comm]()\n",
    "    else:\n",
    "        print(\"Команда не найдена\")"
   ]
  }
 ],
 "metadata": {
  "kernelspec": {
   "display_name": "Python 3",
   "language": "python",
   "name": "python3"
  },
  "language_info": {
   "codemirror_mode": {
    "name": "ipython",
    "version": 3
   },
   "file_extension": ".py",
   "mimetype": "text/x-python",
   "name": "python",
   "nbconvert_exporter": "python",
   "pygments_lexer": "ipython3",
   "version": "3.8.3"
  }
 },
 "nbformat": 4,
 "nbformat_minor": 4
}
