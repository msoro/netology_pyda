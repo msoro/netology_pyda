{
 "cells": [
  {
   "cell_type": "code",
   "execution_count": 4,
   "metadata": {},
   "outputs": [
    {
     "name": "stdout",
     "output_type": "stream",
     "text": [
      "Введите слово: testing\n",
      "3\n",
      "t\n"
     ]
    }
   ],
   "source": [
    "# Задание 1\n",
    "# Дана переменная, в которой хранится слово из латинских букв. Напишите код, который выводит на экран:\n",
    "# среднюю букву, если число букв в слове НЕчетное (ошибка в задании на сайте);\n",
    "# две средних буквы, если число букв (не)четное (ЧЕТНОЕ).\n",
    "# Примеры работы программы:\n",
    "# word = 'test’\n",
    "# Результат:\n",
    "# es\n",
    "# word = 'testing’\n",
    "# Результат:\n",
    "# t\n",
    "\n",
    "word = input('Введите слово: ')\n",
    "med = len(word)//2\n",
    "if len(word) % 2 == 0:\n",
    "    print(word[med-1:med+1])\n",
    "else: print(word[med])"
   ]
  },
  {
   "cell_type": "code",
   "execution_count": 6,
   "metadata": {},
   "outputs": [
    {
     "name": "stdout",
     "output_type": "stream",
     "text": [
      "Введите число: 1\n",
      "Введите число: 4\n",
      "Введите число: 6\n",
      "Введите число: 0\n",
      "Результат:  11\n"
     ]
    }
   ],
   "source": [
    "# Задание 2\n",
    "# Напишите программу, которая последовательно запрашивает у пользователя числа (по одному за раз) \n",
    "# и после первого нуля выводит сумму всех ранее введенных чисел.\n",
    "digit = int(input('Введите число: '))\n",
    "summ = 0\n",
    "while digit != 0:\n",
    "    summ += digit\n",
    "    digit = int(input('Введите число: '))\n",
    "print('Результат: ', summ)\n"
   ]
  },
  {
   "cell_type": "code",
   "execution_count": 4,
   "metadata": {},
   "outputs": [
    {
     "name": "stdout",
     "output_type": "stream",
     "text": [
      "Результат:\n",
      "Идеальные пары:\n",
      "Alex и Emma\n",
      "Arthur и Kate\n",
      "John и Kira\n",
      "Peter и Liza\n",
      "Richard и Trisha\n"
     ]
    }
   ],
   "source": [
    "# Задание 3\n",
    "# Мы делаем MVP dating-сервиса, и у нас есть список парней и девушек.\n",
    "# Выдвигаем гипотезу: лучшие рекомендации мы получим, если просто отсортируем имена по алфавиту \n",
    "# и познакомим людей с одинаковыми индексами после сортировки! \n",
    "# Но мы не будем никого знакомить, если кто-то может остаться без пары:\n",
    "# Примеры работы программы:\n",
    "#\n",
    "# boys = [‘Peter’, ‘Alex’, ‘John’, ‘Arthur’, ‘Richard’]\n",
    "# girls = [‘Kate’, ‘Liza’, ‘Kira’, ‘Emma’, ‘Trisha’]\n",
    "# Результат:\n",
    "# Идеальные пары:\n",
    "# Alex и Emma\n",
    "# Arthur и Kate\n",
    "# John и Kira\n",
    "# Peter и Liza\n",
    "# Richard и Trisha\n",
    "# boys = [‘Peter’, ‘Alex’, ‘John’, ‘Arthur’, ‘Richard’, ‘Michael’]\n",
    "# girls = [‘Kate’, ‘Liza’, ‘Kira’, ‘Emma’, ‘Trisha’]\n",
    "# Результат:\n",
    "# Внимание, кто-то может остаться без пары!\n",
    "\n",
    "boys = ['Peter', 'Alex', 'John', 'Arthur', 'Richard']\n",
    "# boys = ['Peter', 'Alex', 'John', 'Arthur', 'Richard', 'Michael']\n",
    "girls = ['Kate', 'Liza', 'Kira', 'Emma', 'Trisha']\n",
    "print('Результат:')\n",
    "\n",
    "if len(boys) == len(girls):\n",
    "    boys_s = sorted(boys)\n",
    "    girls_s = sorted(girls)\n",
    "    print('Идеальные пары:')\n",
    "    i = 0\n",
    "    \n",
    "    while i < len(boys):\n",
    "       print(boys_s[i], 'и', girls_s[i])\n",
    "       i = i + 1\n",
    "else:\n",
    "    print('Внимание, кто-то может остаться без пары!')\n"
   ]
  },
  {
   "cell_type": "code",
   "execution_count": 13,
   "metadata": {},
   "outputs": [
    {
     "name": "stdout",
     "output_type": "stream",
     "text": [
      "Результат:\n",
      "Внимание, кто-то может остаться без пары!\n"
     ]
    }
   ],
   "source": [
    "# Задание 3 через кортежи\n",
    "boys = ['Peter', 'Alex', 'John', 'Arthur', 'Richard']\n",
    "# boys = ['Peter', 'Alex', 'John', 'Arthur', 'Richard', 'Michael']\n",
    "girls = ['Kate', 'Liza', 'Kira', 'Emma', 'Trisha']\n",
    "print('Результат:')\n",
    "if len(boys) == len(girls):\n",
    "    boys_s = sorted(boys)\n",
    "    girls_s = sorted(girls)\n",
    "    ideal = list(zip(boys_s, girls_s))\n",
    "    print('Идеальные пары:')\n",
    "    for pair in ideal:\n",
    "        print(pair[0], 'и', pair[1])\n",
    "else:\n",
    "    print('Внимание, кто-то может остаться без пары!')"
   ]
  },
  {
   "cell_type": "code",
   "execution_count": 7,
   "metadata": {},
   "outputs": [
    {
     "name": "stdout",
     "output_type": "stream",
     "text": [
      "Результат:\n",
      "Средняя температура в странах:\n",
      "Thailand - 23.9 C\n",
      "Germany - 13.8 C\n",
      "Russia - 3.7 C\n",
      "Poland - 12.0 C\n"
     ]
    }
   ],
   "source": [
    "# Задание 4\n",
    "# У нас есть список, содержащий информацию о среднедневной температуре в Фаренгейтах за произвольный период \n",
    "# по странам (структура данных в примере). Необходимо написать код, который рассчитает среднюю температуру \n",
    "# за период в Цельсиях(!) для каждой страны.\n",
    "\n",
    "countries_temperature = [\n",
    "['Thailand',[75.2, 77, 78.8, 73.4, 68, 75.2, 77]],\n",
    "['Germany',[57.2, 55.4, 59, 59, 53.6]],\n",
    "['Russia',[35.6, 37.4, 39.2, 41, 42.8, 39.2, 35.6]],\n",
    "['Poland', [50, 50, 53.6, 57.2, 55.4, 55.4]]\n",
    "]\n",
    "\n",
    "print('Результат:')\n",
    "print('Средняя температура в странах:')\n",
    "for country in countries_temperature:\n",
    "    l = len(country[1])\n",
    "    mid = (sum(country[1])) / l\n",
    "    cel = (mid - 32)*5/9\n",
    "    print(country[0], '-', round(cel,1), 'C')\n",
    "        \n",
    "# Результат:\n",
    "# Средняя температура в странах:\n",
    "# Thailand - 23.9 С\n",
    "# Germany - 13.8 С\n",
    "# Russia - 3.7 С\n",
    "# Poland - 12.0 С"
   ]
  },
  {
   "cell_type": "code",
   "execution_count": 4,
   "metadata": {},
   "outputs": [
    {
     "name": "stdout",
     "output_type": "stream",
     "text": [
      "23.25\n"
     ]
    }
   ],
   "source": [
    "# Задание 5 (необязательное)\n",
    "# Дан поток логов по количеству просмотренных страниц для каждого пользователя. \n",
    "# Вам необходимо написать алгоритм, который считает среднее значение просмотров на пользователя. \n",
    "# Т. е. надо посчитать отношение суммы всех просмотров к количеству уникальных пользователей.\n",
    "# Примеры работы программы:\n",
    "stream = [\n",
    "'2018-01-01,user1,3',\n",
    "'2018-01-07,user1,4',\n",
    "'2018-03-29,user1,1',\n",
    "'2018-04-04,user1,13',\n",
    "'2018-01-05,user2,7',\n",
    "'2018-06-14,user3,4',\n",
    "'2018-07-02,user3,10',\n",
    "'2018-03-21,user4,19',\n",
    "'2018-03-22,user4,4',\n",
    "'2018-04-22,user4,8',\n",
    "'2018-05-03,user4,9',\n",
    "'2018-05-11,user4,11',\n",
    "]\n",
    "\n",
    "# stream = [\n",
    "# '2018-01-01,user100,150',\n",
    "# '2018-01-07,user99,205',\n",
    "# '2018-03-29,user1001,81'\n",
    "# ]\n",
    "\n",
    "users = {}\n",
    "for rec in stream:\n",
    "  _,user,views = rec.split(',')\n",
    "  users[user] = users.get(user,0)+int(views)\n",
    "\n",
    "avg = sum(users.values())/len(users)\n",
    "print(round(avg,2))\n"
   ]
  },
  {
   "cell_type": "code",
   "execution_count": 12,
   "metadata": {},
   "outputs": [
    {
     "name": "stdout",
     "output_type": "stream",
     "text": [
      "У user1 среднее количество просмотров: 5.25\n",
      "У user2 среднее количество просмотров: 7.0\n",
      "У user3 среднее количество просмотров: 7.0\n",
      "У user4 среднее количество просмотров: 10.2\n"
     ]
    }
   ],
   "source": [
    "# Задание 5 (Решение от преподавателя на семинаре)\n",
    "# Примеры работы программы:\n",
    "streams = [\n",
    "'2018-01-01,user1,3',\n",
    "'2018-01-07,user1,4',\n",
    "'2018-03-29,user1,1',\n",
    "'2018-04-04,user1,13',\n",
    "'2018-01-05,user2,7',\n",
    "'2018-06-14,user3,4',\n",
    "'2018-07-02,user3,10',\n",
    "'2018-03-21,user4,19',\n",
    "'2018-03-22,user4,4',\n",
    "'2018-04-22,user4,8',\n",
    "'2018-05-03,user4,9',\n",
    "'2018-05-11,user4,11',\n",
    "]\n",
    "\n",
    "user_list = [] # список пользователей\n",
    "views_list = [] # список списков просмотров\n",
    "# И эти списки потом надо склеить ZIP по полному соответствию идексов\n",
    "\n",
    "for stream in streams:\n",
    "    splitted_stream = stream.split(',') # делим строки\n",
    "    user = splitted_stream[1] \n",
    "    views = splitted_stream[2]\n",
    "    if user not in user_list:\n",
    "        user_list.append(user) # если пользолвателя в списке пользователей нет - добавляем \n",
    "        views_list.insert(user_list.index(user), [int(views)]) # вставляет в список по индексу user_list.index(user) значение = список просвмотров этого пользователя\n",
    "    else:\n",
    "        # пользователей уже не надо добавлять (они уже есть), добавляем только просмотры\n",
    "        views_list[user_list.index(user)] += [int(views)]\n",
    "# print(user_list)\n",
    "# print(views_list)\n",
    "\n",
    "# склеиваем\n",
    "for u, v in zip(user_list, views_list):\n",
    "    print(f'У {u} среднее количество просмотров: {sum(v)/len(v)}')"
   ]
  },
  {
   "cell_type": "code",
   "execution_count": 19,
   "metadata": {},
   "outputs": [
    {
     "name": "stdout",
     "output_type": "stream",
     "text": [
      "Введите числа: \n",
      "1 1 2 3 4 4\n",
      "Результат: \n",
      "1 4\n"
     ]
    }
   ],
   "source": [
    "# Задание 6 (необязательное)\n",
    "# Необходимо у пользователя запрашивать набор чисел разделенных пробелом. \n",
    "# В результате должны выводиться числа, которые повторяются в вводе более одного раза.\n",
    "\n",
    "from collections import Counter \n",
    "\n",
    "print('Введите числа: ')\n",
    "s = str(input(''))\n",
    "symbols = s.split()\n",
    "counter = Counter(symbols)\n",
    "doubles = {element: count for element, count in counter.items() if count > 1}\n",
    "print('Результат: ')\n",
    "print(' '.join(doubles.keys()))"
   ]
  },
  {
   "cell_type": "code",
   "execution_count": 5,
   "metadata": {},
   "outputs": [],
   "source": [
    "\n"
   ]
  },
  {
   "cell_type": "markdown",
   "metadata": {},
   "source": [
    "# Семинар \"Управляющие конструкции 2\"\n"
   ]
  },
  {
   "cell_type": "code",
   "execution_count": 14,
   "metadata": {},
   "outputs": [
    {
     "data": {
      "text/plain": [
       "['id3', 'id2', 'id1']"
      ]
     },
     "execution_count": 14,
     "metadata": {},
     "output_type": "execute_result"
    }
   ],
   "source": [
    "# Сортировка словарей\n",
    "my_dict = {\n",
    "    'id1': 654321,\n",
    "    'id2': 123456,\n",
    "    'id3': 777777\n",
    "}\n",
    "\n",
    "# сортировка только ключей\n",
    "sorted(my_dict, reverse=True)"
   ]
  },
  {
   "cell_type": "code",
   "execution_count": 15,
   "metadata": {},
   "outputs": [
    {
     "data": {
      "text/plain": [
       "[777777, 654321, 123456]"
      ]
     },
     "execution_count": 15,
     "metadata": {},
     "output_type": "execute_result"
    }
   ],
   "source": [
    "# сортировка только значений\n",
    "sorted(my_dict.values(), reverse=True) "
   ]
  },
  {
   "cell_type": "code",
   "execution_count": 17,
   "metadata": {},
   "outputs": [
    {
     "data": {
      "text/plain": [
       "[('id3', 777777), ('id2', 123456), ('id1', 654321)]"
      ]
     },
     "execution_count": 17,
     "metadata": {},
     "output_type": "execute_result"
    }
   ],
   "source": [
    "# сортировка всего словаря\n",
    "sorted(list(my_dict.items()), key=lambda kv: kv[0], reverse=True) # kv (key-value) - kv[0] по ключам"
   ]
  },
  {
   "cell_type": "code",
   "execution_count": 18,
   "metadata": {},
   "outputs": [
    {
     "data": {
      "text/plain": [
       "[('id3', 777777), ('id1', 654321), ('id2', 123456)]"
      ]
     },
     "execution_count": 18,
     "metadata": {},
     "output_type": "execute_result"
    }
   ],
   "source": [
    "sorted(list(my_dict.items()), key=lambda kv: kv[1], reverse=True) # kv[1] по значениям = List-comprehantion"
   ]
  },
  {
   "cell_type": "code",
   "execution_count": 20,
   "metadata": {},
   "outputs": [
    {
     "data": {
      "text/plain": [
       "{'id2': 123456, 'id1': 654321, 'id3': 777777}"
      ]
     },
     "execution_count": 20,
     "metadata": {},
     "output_type": "execute_result"
    }
   ],
   "source": [
    "# Dict-coprehantion\n",
    "{k: v for k, v in sorted(my_dict.items(), key=lambda kv: kv[1])}\n"
   ]
  },
  {
   "cell_type": "code",
   "execution_count": null,
   "metadata": {},
   "outputs": [],
   "source": [
    "#  что расшифровывается как:\n",
    "for k, v in sorted(my_dict.items(), key=lambda kv: kv[1]):\n",
    "    print(k, v)"
   ]
  },
  {
   "cell_type": "code",
   "execution_count": 21,
   "metadata": {},
   "outputs": [],
   "source": [
    "#######################\n",
    "# Задача с диагональной матрицей\n",
    "\n",
    "data = [\n",
    "    [13, 25, 23, 34],\n",
    "    [45, 32, 44, 47],\n",
    "    [12, 33, 23, 95],\n",
    "    [13, 53, 34, 35]\n",
    "]"
   ]
  },
  {
   "cell_type": "code",
   "execution_count": 22,
   "metadata": {},
   "outputs": [
    {
     "data": {
      "text/plain": [
       "103"
      ]
     },
     "execution_count": 22,
     "metadata": {},
     "output_type": "execute_result"
    }
   ],
   "source": [
    "sum([row[index] for index, row in enumerate(data)]) # Наиболее компактный вариант"
   ]
  },
  {
   "cell_type": "code",
   "execution_count": 25,
   "metadata": {},
   "outputs": [
    {
     "data": {
      "text/plain": [
       "103"
      ]
     },
     "execution_count": 25,
     "metadata": {},
     "output_type": "execute_result"
    }
   ],
   "source": [
    "# Расшифровка:\n",
    "result = 0\n",
    "for i, row in enumerate(data):\n",
    "    result += row[i]\n",
    "result"
   ]
  },
  {
   "cell_type": "code",
   "execution_count": 28,
   "metadata": {},
   "outputs": [
    {
     "data": {
      "text/plain": [
       "[13, 32, 23, 35]"
      ]
     },
     "execution_count": 28,
     "metadata": {},
     "output_type": "execute_result"
    }
   ],
   "source": [
    "# Сама диагональ:\n",
    "result = []\n",
    "for i, row in enumerate(data):\n",
    "    result.append(row[i])\n",
    "result"
   ]
  },
  {
   "cell_type": "code",
   "execution_count": 23,
   "metadata": {},
   "outputs": [
    {
     "data": {
      "text/plain": [
       "103"
      ]
     },
     "execution_count": 23,
     "metadata": {},
     "output_type": "execute_result"
    }
   ],
   "source": [
    "sum([data[i][i] for i in range(0, len(data))]) # Более громоздкая конструкция"
   ]
  },
  {
   "cell_type": "code",
   "execution_count": 24,
   "metadata": {},
   "outputs": [
    {
     "data": {
      "text/plain": [
       "124"
      ]
     },
     "execution_count": 24,
     "metadata": {},
     "output_type": "execute_result"
    }
   ],
   "source": [
    "sum([row[-index-1] for index, row in enumerate(data)]) # Обратная диагональ"
   ]
  },
  {
   "cell_type": "code",
   "execution_count": null,
   "metadata": {},
   "outputs": [],
   "source": []
  }
 ],
 "metadata": {
  "kernelspec": {
   "display_name": "Python 3",
   "language": "python",
   "name": "python3"
  },
  "language_info": {
   "codemirror_mode": {
    "name": "ipython",
    "version": 3
   },
   "file_extension": ".py",
   "mimetype": "text/x-python",
   "name": "python",
   "nbconvert_exporter": "python",
   "pygments_lexer": "ipython3",
   "version": "3.8.3"
  }
 },
 "nbformat": 4,
 "nbformat_minor": 4
}
