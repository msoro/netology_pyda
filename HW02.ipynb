{
 "cells": [
  {
   "cell_type": "code",
   "execution_count": 4,
   "metadata": {},
   "outputs": [
    {
     "name": "stdout",
     "output_type": "stream",
     "text": [
      "Введите слово: testing\n",
      "3\n",
      "t\n"
     ]
    }
   ],
   "source": [
    "# Задание 1\n",
    "# Дана переменная, в которой хранится слово из латинских букв. Напишите код, который выводит на экран:\n",
    "# среднюю букву, если число букв в слове НЕчетное (ошибка в задании на сайте);\n",
    "# две средних буквы, если число букв (не)четное (ЧЕТНОЕ).\n",
    "# Примеры работы программы:\n",
    "# word = 'test’\n",
    "# Результат:\n",
    "# es\n",
    "# word = 'testing’\n",
    "# Результат:\n",
    "# t\n",
    "\n",
    "word = str(input('Введите слово: '))\n",
    "med = len(word)//2\n",
    "if len(word) % 2 == 0:\n",
    "    print(word[med-1:med+1])\n",
    "else: print(word[med])"
   ]
  },
  {
   "cell_type": "code",
   "execution_count": 6,
   "metadata": {},
   "outputs": [
    {
     "name": "stdout",
     "output_type": "stream",
     "text": [
      "Введите число: 1\n",
      "Введите число: 4\n",
      "Введите число: 6\n",
      "Введите число: 0\n",
      "Результат:  11\n"
     ]
    }
   ],
   "source": [
    "# Задание 2\n",
    "# Напишите программу, которая последовательно запрашивает у пользователя числа (по одному за раз) \n",
    "# и после первого нуля выводит сумму всех ранее введенных чисел.\n",
    "digit = int(input('Введите число: '))\n",
    "summ = 0\n",
    "while digit != 0:\n",
    "    summ += digit\n",
    "    digit = int(input('Введите число: '))\n",
    "print('Результат: ', summ)\n"
   ]
  },
  {
   "cell_type": "code",
   "execution_count": 19,
   "metadata": {},
   "outputs": [
    {
     "name": "stdout",
     "output_type": "stream",
     "text": [
      "Результат:\n",
      "Внимание, кто-то может остаться без пары!\n"
     ]
    }
   ],
   "source": [
    "# Задание 3\n",
    "# Мы делаем MVP dating-сервиса, и у нас есть список парней и девушек.\n",
    "# Выдвигаем гипотезу: лучшие рекомендации мы получим, если просто отсортируем имена по алфавиту \n",
    "# и познакомим людей с одинаковыми индексами после сортировки! \n",
    "# Но мы не будем никого знакомить, если кто-то может остаться без пары:\n",
    "# Примеры работы программы:\n",
    "#\n",
    "# boys = [‘Peter’, ‘Alex’, ‘John’, ‘Arthur’, ‘Richard’]\n",
    "# girls = [‘Kate’, ‘Liza’, ‘Kira’, ‘Emma’, ‘Trisha’]\n",
    "# Результат:\n",
    "# Идеальные пары:\n",
    "# Alex и Emma\n",
    "# Arthur и Kate\n",
    "# John и Kira\n",
    "# Peter и Liza\n",
    "# Richard и Trisha\n",
    "# boys = [‘Peter’, ‘Alex’, ‘John’, ‘Arthur’, ‘Richard’, ‘Michael’]\n",
    "# girls = [‘Kate’, ‘Liza’, ‘Kira’, ‘Emma’, ‘Trisha’]\n",
    "# Результат:\n",
    "# Внимание, кто-то может остаться без пары!\n",
    "\n",
    "boys = ['Peter', 'Alex', 'John', 'Arthur', 'Richard']\n",
    "# boys = ['Peter', 'Alex', 'John', 'Arthur', 'Richard', 'Michael']\n",
    "girls = ['Kate', 'Liza', 'Kira', 'Emma', 'Trisha']\n",
    "print('Результат:')\n",
    "if len(boys) == len(girls):\n",
    "    boys_s = sorted(boys)\n",
    "    girls_s = sorted(girls)\n",
    "    print('Идеальные пары:')\n",
    "    i = 0\n",
    "    while i <= len(boys):\n",
    "        print(boys_s[i], 'и', girls_s[i])\n",
    "        i = i + 1\n",
    "else:\n",
    "    print('Внимание, кто-то может остаться без пары!')\n"
   ]
  },
  {
   "cell_type": "code",
   "execution_count": 7,
   "metadata": {},
   "outputs": [
    {
     "name": "stdout",
     "output_type": "stream",
     "text": [
      "Результат:\n",
      "Средняя температура в странах:\n",
      "Thailand - 23.9 C\n",
      "Germany - 13.8 C\n",
      "Russia - 3.7 C\n",
      "Poland - 12.0 C\n"
     ]
    }
   ],
   "source": [
    "# Задание 4\n",
    "# У нас есть список, содержащий информацию о среднедневной температуре в Фаренгейтах за произвольный период \n",
    "# по странам (структура данных в примере). Необходимо написать код, который рассчитает среднюю температуру \n",
    "# за период в Цельсиях(!) для каждой страны.\n",
    "\n",
    "countries_temperature = [\n",
    "['Thailand',[75.2, 77, 78.8, 73.4, 68, 75.2, 77]],\n",
    "['Germany',[57.2, 55.4, 59, 59, 53.6]],\n",
    "['Russia',[35.6, 37.4, 39.2, 41, 42.8, 39.2, 35.6]],\n",
    "['Poland', [50, 50, 53.6, 57.2, 55.4, 55.4]]\n",
    "]\n",
    "\n",
    "print('Результат:')\n",
    "print('Средняя температура в странах:')\n",
    "for country in countries_temperature:\n",
    "    l = len(country[1])\n",
    "    mid = (sum(country[1])) / l\n",
    "    cel = (mid - 32)*5/9\n",
    "    print(country[0], '-', round(cel,1), 'C')\n",
    "        \n",
    "# Результат:\n",
    "# Средняя температура в странах:\n",
    "# Thailand - 23.9 С\n",
    "# Germany - 13.8 С\n",
    "# Russia - 3.7 С\n",
    "# Poland - 12.0 С"
   ]
  },
  {
   "cell_type": "code",
   "execution_count": null,
   "metadata": {},
   "outputs": [],
   "source": []
  }
 ],
 "metadata": {
  "kernelspec": {
   "display_name": "Python 3",
   "language": "python",
   "name": "python3"
  }
 },
 "nbformat": 4,
 "nbformat_minor": 4
}
